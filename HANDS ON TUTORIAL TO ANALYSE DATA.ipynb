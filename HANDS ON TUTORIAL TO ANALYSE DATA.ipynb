{
 "cells": [
  {
   "cell_type": "code",
   "execution_count": null,
   "metadata": {},
   "outputs": [],
   "source": [
    "# importing required libraries\n",
    "from pyspark.sql import SQLContext\n",
    "from pyspark.sql import Row\n",
    "\n",
    "# read the text data\n",
    "raw_data = sc.textFile('sample_data_final_wh.txt').cache()\n",
    "\n",
    "# get number of partitions\n",
    "raw_data.getNumPartitions()\n",
    "## >> 19\n",
    "\n",
    "# view top 2 rows\n",
    "raw_data.take(2)"
   ]
  },
  {
   "cell_type": "code",
   "execution_count": null,
   "metadata": {},
   "outputs": [],
   "source": [
    "# create spark sql context\n",
    "sql_context = SQLContext(sc)\n",
    "\n",
    "# split the data\n",
    "csv_rdd = raw_data.map(lambda row: row.split(',')) \n",
    "\n",
    "# top 2 rows\n",
    "csv_rdd.take(2)\n",
    "\n",
    "# map the datatypes of each column\n",
    "parsed = csv_rdd.map(lambda r : Row( age = int(r[0]),\n",
    "                                     blood_group = r[1],\n",
    "                                     city = r[2],\n",
    "                                     gender = r[3],\n",
    "                                     id_ = int(r[4])))\n",
    "# top 5 rows\n",
    "parsed.take(5)"
   ]
  },
  {
   "cell_type": "code",
   "execution_count": null,
   "metadata": {},
   "outputs": [],
   "source": [
    "# create dataframe \n",
    "data_frame = sql_context.createDataFrame(parsed)\n",
    "\n",
    "# view the dataframe\n",
    "data_frame.show(5)\n",
    "\n",
    "# value counts of gender\n",
    "data_frame.groupby('gender').count().show()"
   ]
  },
  {
   "cell_type": "code",
   "execution_count": null,
   "metadata": {},
   "outputs": [],
   "source": [
    "# register temporary table\n",
    "data_frame.registerTempTable('sample')\n",
    "\n",
    "# get the value count using the sql query\n",
    "gender = sql_context.sql(\" SELECT gender, count(*) as freq from sample GROUP BY gender \")\n",
    "\n",
    "# view the results\n",
    "gender.show()"
   ]
  }
 ],
 "metadata": {
  "kernelspec": {
   "display_name": "Python 3",
   "language": "python",
   "name": "python3"
  },
  "language_info": {
   "codemirror_mode": {
    "name": "ipython",
    "version": 3
   },
   "file_extension": ".py",
   "mimetype": "text/x-python",
   "name": "python",
   "nbconvert_exporter": "python",
   "pygments_lexer": "ipython3",
   "version": "3.8.5"
  }
 },
 "nbformat": 4,
 "nbformat_minor": 4
}
